{
 "cells": [
  {
   "cell_type": "code",
   "execution_count": 1,
   "id": "8e2a6da2",
   "metadata": {},
   "outputs": [],
   "source": [
    "# TEST PERFORMANCES"
   ]
  },
  {
   "cell_type": "code",
   "execution_count": 2,
   "id": "33eb9fd4",
   "metadata": {},
   "outputs": [],
   "source": [
    "from pymongo import MongoClient\n",
    "import copy\n",
    "import mysql.connector\n",
    "import time\n",
    "import random\n",
    "import matplotlib.pyplot as plt\n",
    "\n",
    "# Paramètres de la connexion à MongoDB\n",
    "host = 'localhost'\n",
    "port = 27017\n",
    "\n",
    "# Connexion à MongoDB\n",
    "client = MongoClient(host, port)\n",
    "db = client['f1_test']\n",
    "collection = db['races']\n",
    "\n",
    "# Connexion à MySQL\n",
    "conn = mysql.connector.connect(\n",
    "  host=\"localhost\",\n",
    "  user=\"admin\",\n",
    "  password=\"admin\"\n",
    ")\n",
    "cursor = conn.cursor()"
   ]
  },
  {
   "cell_type": "code",
   "execution_count": 3,
   "id": "9b409607",
   "metadata": {},
   "outputs": [],
   "source": [
    "# BASE DE DONNÉES MySQL"
   ]
  },
  {
   "cell_type": "code",
   "execution_count": 4,
   "id": "a8bb9b35",
   "metadata": {},
   "outputs": [],
   "source": [
    "cursor.execute(\"\"\"\n",
    "CREATE DATABASE IF NOT EXISTS f1_test;\n",
    "\"\"\")\n",
    "\n",
    "cursor.execute(\"\"\"\n",
    "USE f1_test\n",
    "\"\"\")"
   ]
  },
  {
   "cell_type": "code",
   "execution_count": 5,
   "id": "89e25eaf",
   "metadata": {},
   "outputs": [],
   "source": [
    "# TABLES MySQL"
   ]
  },
  {
   "cell_type": "code",
   "execution_count": 6,
   "id": "4f4930be",
   "metadata": {},
   "outputs": [],
   "source": [
    "cursor.execute(\"\"\"\n",
    "CREATE TABLE IF NOT EXISTS Races (\n",
    "id INT PRIMARY KEY,\n",
    "year INT NOT NULL,\n",
    "country VARCHAR(255) NOT NULL,\n",
    "city VARCHAR(255) NOT NULL,\n",
    "duration INT NOT NULL,\n",
    "lapsCompleted INT NOT NULL,\n",
    "fastestDriver VARCHAR(255) NOT NULL\n",
    ");\n",
    "\"\"\")\n",
    "\n",
    "# création de la table Standings\n",
    "cursor.execute(\"\"\"\n",
    "CREATE TABLE IF NOT EXISTS Standings (\n",
    "id INT PRIMARY KEY AUTO_INCREMENT,\n",
    "race_id INT NOT NULL,\n",
    "driver VARCHAR(255) NOT NULL,\n",
    "team VARCHAR(255) NOT NULL,\n",
    "FOREIGN KEY (race_id) REFERENCES Races(id)\n",
    ");\n",
    "\"\"\")"
   ]
  },
  {
   "cell_type": "code",
   "execution_count": 7,
   "id": "eb12de12",
   "metadata": {},
   "outputs": [],
   "source": [
    "# GÉNÉRATION DE DONNÉES"
   ]
  },
  {
   "cell_type": "code",
   "execution_count": 8,
   "id": "491c3d1f",
   "metadata": {},
   "outputs": [],
   "source": [
    "def createMongoDocument():\n",
    "    document = {}\n",
    "    countries = [\n",
    "         \"Barhain\", \"Saudi Arabia\", \"Australia\", \"Italy\", \"United States\",\n",
    "         \"Spain\", \"Monaco\", \"Azerbaijan\", \"Canada\", \"Great Britain\",\n",
    "         \"Autria\", \"France\", \"Hungary\", \"Belgium\", \"Netherlands\",\n",
    "         \"Singapore\", \"Japan\", \"Mexico\", \"Brazil\", \"United Arab Emirates\"\n",
    "    ]\n",
    "    cities = [\n",
    "        \"Sakhir\", \"Jeddah\", \"Melbourne\", \"Imola\", \"Miami\",\n",
    "        \"Barcelona\", \"Monaco\", \"Baku\", \"Montreal\", \"Silverstone\",\n",
    "        \"Spielberg\", \"Le Castellet\", \"Budapest\", \"Spa-Francorchamps\", \"Zandvoort\",\n",
    "        \"Monza\", \"Singapore\", \"Suzuka\", \"Austin\", \"Mexico City\", \"Sao Paulo\", \"Abu Dhabi\"\n",
    "    ]\n",
    "    \n",
    "    document['year'] = random.randint(2017,2023)\n",
    "    document['country'] = countries[random.randint(0, len(countries)-1)]\n",
    "    document['city'] = cities[random.randint(0, len(cities)-1)]\n",
    "    document['duration'] = random.randint(5000000,6000000)\n",
    "    document['lapsCompleted'] = random.randint(50,70)\n",
    "    \n",
    "    standings = []\n",
    "    for i in range(20):\n",
    "        doc = {}\n",
    "        drivers = [\n",
    "            {'driver': 'Verstappen', 'team': 'Red Bull'},\n",
    "            {'driver': 'Perez', 'team': 'Red Bull'},\n",
    "            {'driver': 'Leclerc', 'team': 'Ferrari'},\n",
    "            {'driver': 'Sainz', 'team': 'Ferrari'},\n",
    "            {'driver': 'Hamilton', 'team': 'Mercedes'},\n",
    "            {'driver': 'Russel', 'team': 'Mercedes'},\n",
    "            {'driver': 'Ocon', 'team': 'Alpine'},\n",
    "            {'driver': 'Alonso', 'team': 'Alpine'},\n",
    "            {'driver': 'Norris', 'team': 'McLaren'},\n",
    "            {'driver': 'Ricciardo', 'team': 'McLaren'},\n",
    "            {'driver': 'Gasly', 'team': 'Alpha Tauri'},\n",
    "            {'driver': 'Tsunoda', 'team': 'Alpha Tauri'},\n",
    "            {'driver': 'Magnussen', 'team': 'Haas'},\n",
    "            {'driver': 'Schumacher', 'team': 'Haas'},\n",
    "            {'driver': 'Stroll', 'team': 'Aston Martin'},\n",
    "            {'driver': 'Vettel', 'team': 'Aston Martin'},\n",
    "            {'driver': 'Albon', 'team': 'Williams'},\n",
    "            {'driver': 'Latifi', 'team': 'Williams'},\n",
    "            {'driver': 'Bottas', 'team': 'Alfa Romeo'},\n",
    "            {'driver': 'Zhou', 'team': 'Alfa Romeo'}\n",
    "        ]\n",
    "\n",
    "        doc = drivers.pop(random.randint(0, len(drivers)-1))\n",
    "        standings.append(doc)\n",
    "    \n",
    "        if i == 0:\n",
    "            document['fastestDriver'] = doc['driver']\n",
    "  \n",
    "    document['standings'] = standings\n",
    "    \n",
    "    return document\n",
    "\n",
    "def createMySQLQueries(_id_):\n",
    "    queries_standings = []\n",
    "    query_race = \"\"\n",
    "    \n",
    "    countries = [\n",
    "         \"Barhain\", \"Saudi Arabia\", \"Australia\", \"Italy\", \"United States\",\n",
    "         \"Spain\", \"Monaco\", \"Azerbaijan\", \"Canada\", \"Great Britain\",\n",
    "         \"Autria\", \"France\", \"Hungary\", \"Belgium\", \"Netherlands\",\n",
    "         \"Singapore\", \"Japan\", \"Mexico\", \"Brazil\", \"United Arab Emirates\"\n",
    "    ]\n",
    "    cities = [\n",
    "        \"Sakhir\", \"Jeddah\", \"Melbourne\", \"Imola\", \"Miami\",\n",
    "        \"Barcelona\", \"Monaco\", \"Baku\", \"Montreal\", \"Silverstone\",\n",
    "        \"Spielberg\", \"Le Castellet\", \"Budapest\", \"Spa-Francorchamps\", \"Zandvoort\",\n",
    "        \"Monza\", \"Singapore\", \"Suzuka\", \"Austin\", \"Mexico City\", \"Sao Paulo\", \"Abu Dhabi\"\n",
    "    ]\n",
    "    \n",
    "    year = random.randint(2017,2023)\n",
    "    country = countries[random.randint(0, len(countries)-1)]\n",
    "    city = cities[random.randint(0, len(cities)-1)]\n",
    "    duration = random.randint(5000000,6000000)\n",
    "    lapsCompleted = random.randint(50,70)\n",
    "    fastestDriver = \"\"\n",
    "    \n",
    "    for i in range(20):\n",
    "        drivers = [\n",
    "            {'driver': 'Verstappen', 'team': 'Red Bull'},\n",
    "            {'driver': 'Perez', 'team': 'Red Bull'},\n",
    "            {'driver': 'Leclerc', 'team': 'Ferrari'},\n",
    "            {'driver': 'Sainz', 'team': 'Ferrari'},\n",
    "            {'driver': 'Hamilton', 'team': 'Mercedes'},\n",
    "            {'driver': 'Russel', 'team': 'Mercedes'},\n",
    "            {'driver': 'Ocon', 'team': 'Alpine'},\n",
    "            {'driver': 'Alonso', 'team': 'Alpine'},\n",
    "            {'driver': 'Norris', 'team': 'McLaren'},\n",
    "            {'driver': 'Ricciardo', 'team': 'McLaren'},\n",
    "            {'driver': 'Gasly', 'team': 'Alpha Tauri'},\n",
    "            {'driver': 'Tsunoda', 'team': 'Alpha Tauri'},\n",
    "            {'driver': 'Magnussen', 'team': 'Haas'},\n",
    "            {'driver': 'Schumacher', 'team': 'Haas'},\n",
    "            {'driver': 'Stroll', 'team': 'Aston Martin'},\n",
    "            {'driver': 'Vettel', 'team': 'Aston Martin'},\n",
    "            {'driver': 'Albon', 'team': 'Williams'},\n",
    "            {'driver': 'Latifi', 'team': 'Williams'},\n",
    "            {'driver': 'Bottas', 'team': 'Alfa Romeo'},\n",
    "            {'driver': 'Zhou', 'team': 'Alfa Romeo'}\n",
    "        ]\n",
    "        \n",
    "        doc = drivers.pop(random.randint(0, len(drivers)-1))\n",
    "        driver = doc[\"driver\"]\n",
    "        team = doc[\"team\"]\n",
    "        race_id = _id_\n",
    "        queries_standings.append(\"INSERT INTO Standings (race_id, driver, team) VALUES ({}, '{}', '{}')\".format(race_id, driver, team))\n",
    "        \n",
    "        if i == 0:\n",
    "            fastestDriver = copy.deepcopy(driver)\n",
    "            \n",
    "    query_race = \"INSERT INTO Races (id, year, country, city, duration, lapsCompleted, fastestDriver) VALUES ({}, {}, '{}', '{}', {}, {}, '{}')\".format(_id_, year, country, city, duration, lapsCompleted, fastestDriver)\n",
    "    \n",
    "    return query_race, queries_standings\n",
    "    "
   ]
  },
  {
   "cell_type": "code",
   "execution_count": 9,
   "id": "d5a7c1cb",
   "metadata": {},
   "outputs": [],
   "source": [
    "# INSERTION MONGO\n",
    "nb = 500"
   ]
  },
  {
   "cell_type": "code",
   "execution_count": 10,
   "id": "79003527",
   "metadata": {
    "scrolled": false
   },
   "outputs": [
    {
     "name": "stdout",
     "output_type": "stream",
     "text": [
      "500 insertions effectuées.\n",
      "Temps d'exécution : 0.9598865509033203 secondes\n"
     ]
    }
   ],
   "source": [
    "n_mongo = []\n",
    "seconds_mongo = []\n",
    "def mongo_insertion(nb):\n",
    "    docs = [createMongoDocument() for i in range(nb)]\n",
    "    start_time = time.time()\n",
    "    for i in range(nb):\n",
    "        document = docs[i]\n",
    "        collection.insert_one(document)\n",
    "        n_mongo.append(i)\n",
    "        seconds_mongo.append((time.time() - start_time))\n",
    "        \n",
    "    print(i+1, \"insertions effectuées.\")\n",
    "\n",
    "# Mesure du temps\n",
    "start_time = time.time()\n",
    "mongo_insertion(nb)\n",
    "end_time = time.time()\n",
    "time_mongo = end_time - start_time\n",
    "\n",
    "# Affichage du temps d'exécution\n",
    "print(\"Temps d'exécution : {} secondes\".format(time_mongo))"
   ]
  },
  {
   "cell_type": "code",
   "execution_count": 11,
   "id": "5d3f8530",
   "metadata": {},
   "outputs": [],
   "source": [
    "# INSERTION MYSQL"
   ]
  },
  {
   "cell_type": "code",
   "execution_count": 12,
   "id": "a71d6e05",
   "metadata": {},
   "outputs": [
    {
     "name": "stdout",
     "output_type": "stream",
     "text": [
      "500 insertions effectuées.\n",
      "Temps d'exécution : 11.960264205932617 secondes\n"
     ]
    }
   ],
   "source": [
    "cursor.execute(\"DELETE FROM Standings\")\n",
    "cursor.execute(\"DELETE FROM Races\")\n",
    "\n",
    "n_mysql = []\n",
    "seconds_mysql = []\n",
    "\n",
    "def mysql_insertion(nb):\n",
    "    \n",
    "    queries_r = []\n",
    "    queries_s = []\n",
    "    for i in range(nb):\n",
    "        race,standings = createMySQLQueries(i)\n",
    "        queries_r.append(race)\n",
    "        queries_s.append(standings)\n",
    "    start_time = time.time()\n",
    "    \n",
    "    for i in range(len(queries_r)):\n",
    "        \n",
    "        cursor.execute(queries_r[i])\n",
    "        for j in queries_s[i]:\n",
    "            cursor.execute(j)\n",
    "        \n",
    "        n_mysql.append(i)\n",
    "        seconds_mysql.append((time.time() - start_time))\n",
    "        \n",
    "    print(i+1, \"insertions effectuées.\")\n",
    "\n",
    "# Mesure du temps\n",
    "start_time = time.time()\n",
    "mysql_insertion(nb)\n",
    "end_time = time.time()\n",
    "time_mysql = end_time - start_time\n",
    "\n",
    "# Affichage du temps d'exécution\n",
    "print(\"Temps d'exécution : {} secondes\".format(time_mysql))"
   ]
  },
  {
   "cell_type": "code",
   "execution_count": 13,
   "id": "5fde5ebd",
   "metadata": {},
   "outputs": [],
   "source": [
    "# GRAPHIQUE"
   ]
  },
  {
   "cell_type": "code",
   "execution_count": 14,
   "id": "4eac898a",
   "metadata": {},
   "outputs": [
    {
     "data": {
      "image/png": "[encoded data removed]",
      "text/plain": [
       "<Figure size 640x480 with 1 Axes>"
      ]
     },
     "metadata": {},
     "output_type": "display_data"
    }
   ],
   "source": [
    "# Plot des données MySQL (en utilisant une autre couleur de ligne)\n",
    "plt.plot(n_mysql, seconds_mysql, label='MySQL')\n",
    "\n",
    "# Plot des données MongoDB\n",
    "plt.plot(n_mongo, seconds_mongo, label='Mongo')\n",
    "\n",
    "# Configurer les axes et le titre\n",
    "plt.ylabel('Temps écoulé (secondes)')\n",
    "plt.xlabel('Nombre d\\'éléments dans la liste')\n",
    "plt.title(\"Insertions de 500 éléments\")\n",
    "\n",
    "# Afficher la légende\n",
    "plt.legend()\n",
    "\n",
    "# Afficher la grille\n",
    "plt.grid()\n",
    "\n",
    "# Afficher le graphique\n",
    "plt.show()"
   ]
  },
  {
   "cell_type": "code",
   "execution_count": 20,
   "id": "1ffe175f",
   "metadata": {},
   "outputs": [
    {
     "name": "stdout",
     "output_type": "stream",
     "text": [
      "MongoDB est 12x plus rapide lors de l'insertion\n"
     ]
    }
   ],
   "source": [
    "print(\"MongoDB est {}x plus rapide lors de l'insertion\".format(int(time_mysql/time_mongo)))"
   ]
  },
  {
   "cell_type": "code",
   "execution_count": null,
   "id": "a0b18f6f",
   "metadata": {},
   "outputs": [],
   "source": []
  }
 ],
 "metadata": {
  "kernelspec": {
   "display_name": "Python 3 (ipykernel)",
   "language": "python",
   "name": "python3"
  },
  "language_info": {
   "codemirror_mode": {
    "name": "ipython",
    "version": 3
   },
   "file_extension": ".py",
   "mimetype": "text/x-python",
   "name": "python",
   "nbconvert_exporter": "python",
   "pygments_lexer": "ipython3",
   "version": "3.10.7"
  }
 },
 "nbformat": 4,
 "nbformat_minor": 5
}
